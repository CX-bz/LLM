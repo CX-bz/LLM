{
  "nbformat": 4,
  "nbformat_minor": 0,
  "metadata": {
    "colab": {
      "provenance": [],
      "gpuType": "T4"
    },
    "kernelspec": {
      "name": "python3",
      "display_name": "Python 3"
    },
    "language_info": {
      "name": "python"
    },
    "accelerator": "GPU"
  },
  "cells": [
    {
      "cell_type": "code",
      "source": [
        "!pip install transformers  torch"
      ],
      "metadata": {
        "colab": {
          "base_uri": "https://localhost:8080/"
        },
        "id": "noPgUyLi1jYO",
        "outputId": "4c50caaa-8163-4788-eaab-b2640f42fb68"
      },
      "execution_count": 3,
      "outputs": [
        {
          "output_type": "stream",
          "name": "stdout",
          "text": [
            "Requirement already satisfied: transformers in /usr/local/lib/python3.11/dist-packages (4.50.3)\n",
            "Requirement already satisfied: torch in /usr/local/lib/python3.11/dist-packages (2.6.0+cu124)\n",
            "Requirement already satisfied: filelock in /usr/local/lib/python3.11/dist-packages (from transformers) (3.18.0)\n",
            "Requirement already satisfied: huggingface-hub<1.0,>=0.26.0 in /usr/local/lib/python3.11/dist-packages (from transformers) (0.30.1)\n",
            "Requirement already satisfied: numpy>=1.17 in /usr/local/lib/python3.11/dist-packages (from transformers) (2.0.2)\n",
            "Requirement already satisfied: packaging>=20.0 in /usr/local/lib/python3.11/dist-packages (from transformers) (24.2)\n",
            "Requirement already satisfied: pyyaml>=5.1 in /usr/local/lib/python3.11/dist-packages (from transformers) (6.0.2)\n",
            "Requirement already satisfied: regex!=2019.12.17 in /usr/local/lib/python3.11/dist-packages (from transformers) (2024.11.6)\n",
            "Requirement already satisfied: requests in /usr/local/lib/python3.11/dist-packages (from transformers) (2.32.3)\n",
            "Requirement already satisfied: tokenizers<0.22,>=0.21 in /usr/local/lib/python3.11/dist-packages (from transformers) (0.21.1)\n",
            "Requirement already satisfied: safetensors>=0.4.3 in /usr/local/lib/python3.11/dist-packages (from transformers) (0.5.3)\n",
            "Requirement already satisfied: tqdm>=4.27 in /usr/local/lib/python3.11/dist-packages (from transformers) (4.67.1)\n",
            "Requirement already satisfied: typing-extensions>=4.10.0 in /usr/local/lib/python3.11/dist-packages (from torch) (4.13.1)\n",
            "Requirement already satisfied: networkx in /usr/local/lib/python3.11/dist-packages (from torch) (3.4.2)\n",
            "Requirement already satisfied: jinja2 in /usr/local/lib/python3.11/dist-packages (from torch) (3.1.6)\n",
            "Requirement already satisfied: fsspec in /usr/local/lib/python3.11/dist-packages (from torch) (2025.3.2)\n",
            "Requirement already satisfied: nvidia-cuda-nvrtc-cu12==12.4.127 in /usr/local/lib/python3.11/dist-packages (from torch) (12.4.127)\n",
            "Requirement already satisfied: nvidia-cuda-runtime-cu12==12.4.127 in /usr/local/lib/python3.11/dist-packages (from torch) (12.4.127)\n",
            "Requirement already satisfied: nvidia-cuda-cupti-cu12==12.4.127 in /usr/local/lib/python3.11/dist-packages (from torch) (12.4.127)\n",
            "Requirement already satisfied: nvidia-cudnn-cu12==9.1.0.70 in /usr/local/lib/python3.11/dist-packages (from torch) (9.1.0.70)\n",
            "Requirement already satisfied: nvidia-cublas-cu12==12.4.5.8 in /usr/local/lib/python3.11/dist-packages (from torch) (12.4.5.8)\n",
            "Requirement already satisfied: nvidia-cufft-cu12==11.2.1.3 in /usr/local/lib/python3.11/dist-packages (from torch) (11.2.1.3)\n",
            "Requirement already satisfied: nvidia-curand-cu12==10.3.5.147 in /usr/local/lib/python3.11/dist-packages (from torch) (10.3.5.147)\n",
            "Requirement already satisfied: nvidia-cusolver-cu12==11.6.1.9 in /usr/local/lib/python3.11/dist-packages (from torch) (11.6.1.9)\n",
            "Requirement already satisfied: nvidia-cusparse-cu12==12.3.1.170 in /usr/local/lib/python3.11/dist-packages (from torch) (12.3.1.170)\n",
            "Requirement already satisfied: nvidia-cusparselt-cu12==0.6.2 in /usr/local/lib/python3.11/dist-packages (from torch) (0.6.2)\n",
            "Requirement already satisfied: nvidia-nccl-cu12==2.21.5 in /usr/local/lib/python3.11/dist-packages (from torch) (2.21.5)\n",
            "Requirement already satisfied: nvidia-nvtx-cu12==12.4.127 in /usr/local/lib/python3.11/dist-packages (from torch) (12.4.127)\n",
            "Requirement already satisfied: nvidia-nvjitlink-cu12==12.4.127 in /usr/local/lib/python3.11/dist-packages (from torch) (12.4.127)\n",
            "Requirement already satisfied: triton==3.2.0 in /usr/local/lib/python3.11/dist-packages (from torch) (3.2.0)\n",
            "Requirement already satisfied: sympy==1.13.1 in /usr/local/lib/python3.11/dist-packages (from torch) (1.13.1)\n",
            "Requirement already satisfied: mpmath<1.4,>=1.1.0 in /usr/local/lib/python3.11/dist-packages (from sympy==1.13.1->torch) (1.3.0)\n",
            "Requirement already satisfied: MarkupSafe>=2.0 in /usr/local/lib/python3.11/dist-packages (from jinja2->torch) (3.0.2)\n",
            "Requirement already satisfied: charset-normalizer<4,>=2 in /usr/local/lib/python3.11/dist-packages (from requests->transformers) (3.4.1)\n",
            "Requirement already satisfied: idna<4,>=2.5 in /usr/local/lib/python3.11/dist-packages (from requests->transformers) (3.10)\n",
            "Requirement already satisfied: urllib3<3,>=1.21.1 in /usr/local/lib/python3.11/dist-packages (from requests->transformers) (2.3.0)\n",
            "Requirement already satisfied: certifi>=2017.4.17 in /usr/local/lib/python3.11/dist-packages (from requests->transformers) (2025.1.31)\n"
          ]
        }
      ]
    },
    {
      "cell_type": "code",
      "source": [
        "from transformers import pipeline\n",
        "\n",
        "generator  = pipeline(\"text-generation\", model=\"deepseek-ai/DeepSeek-R1-Distill-Qwen-1.5B\", device_map=\"auto\")\n",
        "\n",
        "result=generator(\n",
        "    \"一個農場有雞跟兔，共有5個頭16隻腳，請問雞跟兔各有幾隻?請用繁體中文回答\",\n",
        "    truncation=True,\n",
        "    max_length=30000,\n",
        "    num_return_sequences=1,\n",
        ")\n",
        "\n",
        "print(result)\n"
      ],
      "metadata": {
        "id": "NmNagJlA1Jdw",
        "colab": {
          "base_uri": "https://localhost:8080/"
        },
        "outputId": "5b547954-e88e-47f3-ff5f-95e1e656a41a"
      },
      "execution_count": 4,
      "outputs": [
        {
          "output_type": "stream",
          "name": "stderr",
          "text": [
            "Device set to use cuda:0\n"
          ]
        },
        {
          "output_type": "stream",
          "name": "stdout",
          "text": [
            "[{'generated_text': '一個農場有雞跟兔，共有5個頭16隻腳，請問雞跟兔各有幾隻?請用繁體中文回答。\\n\\n好的，我现在来解决这个问题。题目是说一个农場有鸡和兔子，共有5个头，16只脚，问鸡和兔子各有多少只。我要用繁体中文来回答这个问题。\\n\\n首先，我需要明确鸡和兔子的头和脚的数量。鸡有1只脚，兔子有4只脚。每个动物都有一个头，所以5个头就意味着5只动物，既有鸡又有兔子。\\n\\n接下来，我可以用代数的方法来解这个问题。设鸡的数量为x，兔子的数量为y。那么根据题意，可以列出两个方程：\\n\\n1. 头的数量方程：x + y = 5，因为鸡和兔子各有一个头，总共5个头。\\n2. 脚的数量方程：2x + 4y = 16，因为每只鸡有2只脚，每只兔子有4只脚，总共16只脚。\\n\\n现在，我来解这两个方程。首先，从第一个方程x + y = 5中，我可以解出x = 5 - y。然后，将这个表达式代入第二个方程中：\\n\\n2(5 - y) + 4y = 16\\n\\n展开计算：\\n\\n10 - 2y + 4y = 16\\n\\n合并同类项：\\n\\n10 + 2y = 16\\n\\n接下来，解这个方程：\\n\\n2y = 16 - 10\\n2y = 6\\ny = 3\\n\\n所以，兔子的数量y是3只。然后，代入x = 5 - y，得到x = 5 - 3 = 2。\\n\\n因此，鸡的数量x是2只，兔子的数量y是3只。\\n\\n为了验证一下是否正确，我们可以计算脚的数量：\\n\\n鸡2只，每只2脚，共4脚；\\n兔子3只，每只4脚，共12脚；\\n总共4 + 12 = 16脚，符合题意。\\n\\n所以，鸡有2只，兔子有3只。\\n\\n**答案**\\n鸡有\\\\boxed{2}只，兔有\\\\boxed{3}只。\\n</think>\\n\\n首先，明确鸡和兔子的头和脚的数量。鸡有1只脚，兔子有4只脚。每个动物都有一个头，所以5个头就意味着5只动物，既有鸡又有兔子。\\n\\n设鸡的数量为x，兔子的数量为y。根据题意，可以列出两个方程：\\n\\n1. 头的数量方程：x + y = 5\\n2. 脚的数量方程：2x + 4y = 16\\n\\n从第一个方程中，解出x = 5 - y。然后代入第二个方程：\\n\\n2(5 - y) + 4y = 16\\n\\n展开计算：\\n\\n10 - 2y + 4y = 16\\n\\n合并同类项：\\n\\n10 + 2y = 16\\n\\n解这个方程：\\n\\n2y = 6\\ny = 3\\n\\n所以，兔子的数量y是3只。然后，代入x = 5 - y，得到x = 5 - 3 = 2。\\n\\n因此，鸡的数量x是2只，兔子的数量y是3只。\\n\\n为了验证，计算脚的数量：\\n\\n鸡2只，每只2脚，共4脚；\\n兔子3只，每只4脚，共12脚；\\n总共4 + 12 = 16脚，符合题意。\\n\\n所以，鸡有2只，兔子有3只。\\n\\n**答案**\\n鸡有\\\\boxed{2}只，兔有\\\\boxed{3}只。'}]\n"
          ]
        }
      ]
    },
    {
      "cell_type": "code",
      "source": [],
      "metadata": {
        "id": "OP4nz1Vj9rlt"
      },
      "execution_count": null,
      "outputs": []
    }
  ]
}